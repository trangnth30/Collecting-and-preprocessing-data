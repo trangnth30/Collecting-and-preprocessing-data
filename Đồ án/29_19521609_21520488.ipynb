{
  "cells": [
    {
      "cell_type": "code",
      "execution_count": 1,
      "metadata": {
        "id": "ZTCyEsEzkuhw"
      },
      "outputs": [],
      "source": [
        "import numpy as np\n",
        "import pandas as pd\n",
        "import matplotlib.pyplot as plt\n",
        "import seaborn as sb\n",
        "import time\n",
        "from time import localtime, strftime\n",
        "import bs4\n",
        "import requests\n",
        " \n",
        "from sklearn.model_selection import train_test_split\n",
        "from sklearn.preprocessing import StandardScaler\n",
        "from sklearn import metrics\n",
        "from sklearn.svm import SVC\n",
        "from xgboost import XGBClassifier\n",
        "from sklearn.linear_model import LogisticRegression\n",
        "from imblearn.over_sampling import RandomOverSampler"
      ]
    },
    {
      "attachments": {},
      "cell_type": "markdown",
      "metadata": {},
      "source": [
        "# Đọc và chuẩn bị dữ liệu"
      ]
    },
    {
      "cell_type": "code",
      "execution_count": 2,
      "metadata": {
        "colab": {
          "base_uri": "https://localhost:8080/"
        },
        "id": "mCVJ4LKodNnG",
        "outputId": "0051aeca-9437-40e1-cd2b-1b770998de94"
      },
      "outputs": [],
      "source": [
        "# from google.colab import drive\n",
        "# drive.mount('/content/drive')"
      ]
    },
    {
      "cell_type": "code",
      "execution_count": 3,
      "metadata": {
        "colab": {
          "base_uri": "https://localhost:8080/",
          "height": 423
        },
        "id": "GcV-E57cdS0D",
        "outputId": "604d7869-528a-4075-aee6-38364b48d546"
      },
      "outputs": [
        {
          "data": {
            "text/html": [
              "<div>\n",
              "<style scoped>\n",
              "    .dataframe tbody tr th:only-of-type {\n",
              "        vertical-align: middle;\n",
              "    }\n",
              "\n",
              "    .dataframe tbody tr th {\n",
              "        vertical-align: top;\n",
              "    }\n",
              "\n",
              "    .dataframe thead th {\n",
              "        text-align: right;\n",
              "    }\n",
              "</style>\n",
              "<table border=\"1\" class=\"dataframe\">\n",
              "  <thead>\n",
              "    <tr style=\"text-align: right;\">\n",
              "      <th></th>\n",
              "      <th>Hour</th>\n",
              "      <th>Temperature</th>\n",
              "      <th>Forecast</th>\n",
              "      <th>Rain</th>\n",
              "      <th>Rain_rate</th>\n",
              "      <th>Cloud_rate</th>\n",
              "      <th>Pressure</th>\n",
              "      <th>Wind</th>\n",
              "      <th>Gust</th>\n",
              "      <th>Day</th>\n",
              "      <th>Month</th>\n",
              "      <th>Year</th>\n",
              "      <th>Weather</th>\n",
              "    </tr>\n",
              "  </thead>\n",
              "  <tbody>\n",
              "    <tr>\n",
              "      <th>0</th>\n",
              "      <td>0</td>\n",
              "      <td>26.0</td>\n",
              "      <td>28.0</td>\n",
              "      <td>0.0</td>\n",
              "      <td>0.0</td>\n",
              "      <td>0.10</td>\n",
              "      <td>1015.0</td>\n",
              "      <td>8.0</td>\n",
              "      <td>11.0</td>\n",
              "      <td>1</td>\n",
              "      <td>1</td>\n",
              "      <td>2020</td>\n",
              "      <td>0</td>\n",
              "    </tr>\n",
              "    <tr>\n",
              "      <th>1</th>\n",
              "      <td>3</td>\n",
              "      <td>25.0</td>\n",
              "      <td>26.0</td>\n",
              "      <td>0.0</td>\n",
              "      <td>0.0</td>\n",
              "      <td>0.19</td>\n",
              "      <td>1014.0</td>\n",
              "      <td>8.0</td>\n",
              "      <td>13.0</td>\n",
              "      <td>1</td>\n",
              "      <td>1</td>\n",
              "      <td>2020</td>\n",
              "      <td>0</td>\n",
              "    </tr>\n",
              "    <tr>\n",
              "      <th>2</th>\n",
              "      <td>6</td>\n",
              "      <td>24.0</td>\n",
              "      <td>26.0</td>\n",
              "      <td>0.0</td>\n",
              "      <td>0.0</td>\n",
              "      <td>0.10</td>\n",
              "      <td>1015.0</td>\n",
              "      <td>8.0</td>\n",
              "      <td>11.0</td>\n",
              "      <td>1</td>\n",
              "      <td>1</td>\n",
              "      <td>2020</td>\n",
              "      <td>0</td>\n",
              "    </tr>\n",
              "    <tr>\n",
              "      <th>3</th>\n",
              "      <td>9</td>\n",
              "      <td>29.0</td>\n",
              "      <td>30.0</td>\n",
              "      <td>0.0</td>\n",
              "      <td>0.0</td>\n",
              "      <td>0.05</td>\n",
              "      <td>1016.0</td>\n",
              "      <td>7.0</td>\n",
              "      <td>15.0</td>\n",
              "      <td>1</td>\n",
              "      <td>1</td>\n",
              "      <td>2020</td>\n",
              "      <td>0</td>\n",
              "    </tr>\n",
              "    <tr>\n",
              "      <th>4</th>\n",
              "      <td>12</td>\n",
              "      <td>34.0</td>\n",
              "      <td>34.0</td>\n",
              "      <td>0.0</td>\n",
              "      <td>0.0</td>\n",
              "      <td>0.08</td>\n",
              "      <td>1015.0</td>\n",
              "      <td>10.0</td>\n",
              "      <td>17.0</td>\n",
              "      <td>1</td>\n",
              "      <td>1</td>\n",
              "      <td>2020</td>\n",
              "      <td>0</td>\n",
              "    </tr>\n",
              "    <tr>\n",
              "      <th>...</th>\n",
              "      <td>...</td>\n",
              "      <td>...</td>\n",
              "      <td>...</td>\n",
              "      <td>...</td>\n",
              "      <td>...</td>\n",
              "      <td>...</td>\n",
              "      <td>...</td>\n",
              "      <td>...</td>\n",
              "      <td>...</td>\n",
              "      <td>...</td>\n",
              "      <td>...</td>\n",
              "      <td>...</td>\n",
              "      <td>...</td>\n",
              "    </tr>\n",
              "    <tr>\n",
              "      <th>16523</th>\n",
              "      <td>9</td>\n",
              "      <td>32.0</td>\n",
              "      <td>36.0</td>\n",
              "      <td>0.0</td>\n",
              "      <td>0.0</td>\n",
              "      <td>0.21</td>\n",
              "      <td>1010.0</td>\n",
              "      <td>12.0</td>\n",
              "      <td>14.0</td>\n",
              "      <td>30</td>\n",
              "      <td>4</td>\n",
              "      <td>2023</td>\n",
              "      <td>0</td>\n",
              "    </tr>\n",
              "    <tr>\n",
              "      <th>16524</th>\n",
              "      <td>12</td>\n",
              "      <td>37.0</td>\n",
              "      <td>42.0</td>\n",
              "      <td>0.0</td>\n",
              "      <td>0.0</td>\n",
              "      <td>1.00</td>\n",
              "      <td>1007.0</td>\n",
              "      <td>9.0</td>\n",
              "      <td>10.0</td>\n",
              "      <td>30</td>\n",
              "      <td>4</td>\n",
              "      <td>2023</td>\n",
              "      <td>0</td>\n",
              "    </tr>\n",
              "    <tr>\n",
              "      <th>16525</th>\n",
              "      <td>15</td>\n",
              "      <td>33.0</td>\n",
              "      <td>37.0</td>\n",
              "      <td>0.4</td>\n",
              "      <td>0.0</td>\n",
              "      <td>0.84</td>\n",
              "      <td>1005.0</td>\n",
              "      <td>12.0</td>\n",
              "      <td>15.0</td>\n",
              "      <td>30</td>\n",
              "      <td>4</td>\n",
              "      <td>2023</td>\n",
              "      <td>1</td>\n",
              "    </tr>\n",
              "    <tr>\n",
              "      <th>16526</th>\n",
              "      <td>18</td>\n",
              "      <td>30.0</td>\n",
              "      <td>33.0</td>\n",
              "      <td>0.7</td>\n",
              "      <td>0.0</td>\n",
              "      <td>0.82</td>\n",
              "      <td>1006.0</td>\n",
              "      <td>17.0</td>\n",
              "      <td>26.0</td>\n",
              "      <td>30</td>\n",
              "      <td>4</td>\n",
              "      <td>2023</td>\n",
              "      <td>1</td>\n",
              "    </tr>\n",
              "    <tr>\n",
              "      <th>16527</th>\n",
              "      <td>21</td>\n",
              "      <td>28.0</td>\n",
              "      <td>31.0</td>\n",
              "      <td>1.0</td>\n",
              "      <td>0.0</td>\n",
              "      <td>0.65</td>\n",
              "      <td>1009.0</td>\n",
              "      <td>12.0</td>\n",
              "      <td>18.0</td>\n",
              "      <td>30</td>\n",
              "      <td>4</td>\n",
              "      <td>2023</td>\n",
              "      <td>1</td>\n",
              "    </tr>\n",
              "  </tbody>\n",
              "</table>\n",
              "<p>16528 rows × 13 columns</p>\n",
              "</div>"
            ],
            "text/plain": [
              "       Hour  Temperature  Forecast  Rain  Rain_rate  Cloud_rate  Pressure  \\\n",
              "0         0         26.0      28.0   0.0        0.0        0.10    1015.0   \n",
              "1         3         25.0      26.0   0.0        0.0        0.19    1014.0   \n",
              "2         6         24.0      26.0   0.0        0.0        0.10    1015.0   \n",
              "3         9         29.0      30.0   0.0        0.0        0.05    1016.0   \n",
              "4        12         34.0      34.0   0.0        0.0        0.08    1015.0   \n",
              "...     ...          ...       ...   ...        ...         ...       ...   \n",
              "16523     9         32.0      36.0   0.0        0.0        0.21    1010.0   \n",
              "16524    12         37.0      42.0   0.0        0.0        1.00    1007.0   \n",
              "16525    15         33.0      37.0   0.4        0.0        0.84    1005.0   \n",
              "16526    18         30.0      33.0   0.7        0.0        0.82    1006.0   \n",
              "16527    21         28.0      31.0   1.0        0.0        0.65    1009.0   \n",
              "\n",
              "       Wind  Gust  Day  Month  Year  Weather  \n",
              "0       8.0  11.0    1      1  2020        0  \n",
              "1       8.0  13.0    1      1  2020        0  \n",
              "2       8.0  11.0    1      1  2020        0  \n",
              "3       7.0  15.0    1      1  2020        0  \n",
              "4      10.0  17.0    1      1  2020        0  \n",
              "...     ...   ...  ...    ...   ...      ...  \n",
              "16523  12.0  14.0   30      4  2023        0  \n",
              "16524   9.0  10.0   30      4  2023        0  \n",
              "16525  12.0  15.0   30      4  2023        1  \n",
              "16526  17.0  26.0   30      4  2023        1  \n",
              "16527  12.0  18.0   30      4  2023        1  \n",
              "\n",
              "[16528 rows x 13 columns]"
            ]
          },
          "execution_count": 3,
          "metadata": {},
          "output_type": "execute_result"
        }
      ],
      "source": [
        "#Đọc dữ liệu\n",
        "import pandas as pd\n",
        "data = pd.read_csv('final_data.csv')\n",
        "data"
      ]
    },
    {
      "cell_type": "code",
      "execution_count": 4,
      "metadata": {
        "id": "Br2rb0AGdf7J"
      },
      "outputs": [],
      "source": [
        "# #Cách 1\n",
        "# features = data.drop(['Weather'], axis=1)\n",
        "# target = data.Weather"
      ]
    },
    {
      "cell_type": "code",
      "execution_count": 5,
      "metadata": {
        "id": "K8BxoJMat_3d"
      },
      "outputs": [],
      "source": [
        "#Cách 2\n",
        "features = data.drop(['Weather'], axis=1).iloc[:-1, :]\n",
        "target = data.Weather.iloc[1:]"
      ]
    },
    {
      "cell_type": "code",
      "execution_count": 6,
      "metadata": {},
      "outputs": [],
      "source": [
        "# # Cách 3\n",
        "# features = data.drop(['Day', 'Month', 'Year', 'Weather'], axis=1).iloc[:-1, :]\n",
        "# target = data.Weather.iloc[1:]"
      ]
    },
    {
      "cell_type": "code",
      "execution_count": 7,
      "metadata": {},
      "outputs": [],
      "source": [
        "# # Cách 4\n",
        "# features = data.drop(['Day', 'Year', 'Weather'], axis=1).iloc[:-1, :]\n",
        "# target = data.Weather.iloc[1:]\n",
        "\n",
        "# rain_ss = [5,6,7,8,9,10,11]\n",
        "# norain_ss = [12,1,2,3,4]\n",
        "# features['Month'] = features['Month'].replace(norain_ss, 0)\n",
        "# features['Month'] = features['Month'].replace(rain_ss, 1)\n",
        "# features['Month'].value_counts()"
      ]
    },
    {
      "cell_type": "code",
      "execution_count": 8,
      "metadata": {
        "colab": {
          "base_uri": "https://localhost:8080/"
        },
        "id": "wRcED2HZi81r",
        "outputId": "936fc810-1074-497a-cd57-a207db257cce"
      },
      "outputs": [
        {
          "name": "stdout",
          "output_type": "stream",
          "text": [
            "<class 'pandas.core.frame.DataFrame'>\n",
            "RangeIndex: 16527 entries, 0 to 16526\n",
            "Data columns (total 12 columns):\n",
            " #   Column       Non-Null Count  Dtype  \n",
            "---  ------       --------------  -----  \n",
            " 0   Hour         16527 non-null  int64  \n",
            " 1   Temperature  16527 non-null  float64\n",
            " 2   Forecast     16527 non-null  float64\n",
            " 3   Rain         16527 non-null  float64\n",
            " 4   Rain_rate    16527 non-null  float64\n",
            " 5   Cloud_rate   16527 non-null  float64\n",
            " 6   Pressure     16527 non-null  float64\n",
            " 7   Wind         16527 non-null  float64\n",
            " 8   Gust         16527 non-null  float64\n",
            " 9   Day          16527 non-null  int64  \n",
            " 10  Month        16527 non-null  int64  \n",
            " 11  Year         16527 non-null  int64  \n",
            "dtypes: float64(8), int64(4)\n",
            "memory usage: 1.5 MB\n"
          ]
        }
      ],
      "source": [
        "features.info()"
      ]
    },
    {
      "cell_type": "code",
      "execution_count": 9,
      "metadata": {
        "colab": {
          "base_uri": "https://localhost:8080/"
        },
        "id": "JWLMYqzzjDvO",
        "outputId": "092b482a-8bb9-49c6-e3ab-d3882ac70cec"
      },
      "outputs": [
        {
          "name": "stdout",
          "output_type": "stream",
          "text": [
            "<class 'pandas.core.series.Series'>\n",
            "RangeIndex: 16527 entries, 1 to 16527\n",
            "Series name: Weather\n",
            "Non-Null Count  Dtype\n",
            "--------------  -----\n",
            "16527 non-null  int64\n",
            "dtypes: int64(1)\n",
            "memory usage: 129.2 KB\n"
          ]
        }
      ],
      "source": [
        "target.info()"
      ]
    },
    {
      "cell_type": "code",
      "execution_count": 10,
      "metadata": {
        "id": "MIwuip7QkxnH"
      },
      "outputs": [],
      "source": [
        "\n",
        "X_train, X_val, Y_train, Y_val = train_test_split(features,\n",
        "                                                  target,\n",
        "                                                  test_size = 0.2,\n",
        "                                                  stratify = target,\n",
        "                                                  random_state=2)\n",
        " \n",
        "# lặp lại các dòng dữ liệu có số lượng label thấp hơn để tăng tính cân bằng\n",
        "ros = RandomOverSampler(sampling_strategy='minority', random_state=22)\n",
        "X, Y = ros.fit_resample(X_train,Y_train)"
      ]
    },
    {
      "cell_type": "code",
      "execution_count": 11,
      "metadata": {
        "id": "6-Dt6TFLk2cA"
      },
      "outputs": [],
      "source": [
        "# chuẩn hóa toàn bộ dữ liệu\n",
        "scaler = StandardScaler()\n",
        "X = scaler.fit_transform(X)\n",
        "X_val = scaler.transform(X_val)"
      ]
    },
    {
      "attachments": {},
      "cell_type": "markdown",
      "metadata": {},
      "source": [
        "# Chạy các mô hình máy học"
      ]
    },
    {
      "cell_type": "code",
      "execution_count": 12,
      "metadata": {
        "colab": {
          "base_uri": "https://localhost:8080/",
          "height": 1000
        },
        "id": "23vKR70Dk4xp",
        "outputId": "72d916d9-1e85-471b-e7a5-5a65d7fd5e7f"
      },
      "outputs": [
        {
          "name": "stdout",
          "output_type": "stream",
          "text": [
            "LogisticRegression() : \n",
            "Training Accuracy :  0.8283663744859514\n",
            "Validation Accuracy :  0.8344128868322417\n",
            "Time:  0.01900482177734375\n",
            "==========================================================\n"
          ]
        },
        {
          "name": "stdout",
          "output_type": "stream",
          "text": [
            "XGBClassifier(base_score=None, booster=None, callbacks=None,\n",
            "              colsample_bylevel=None, colsample_bynode=None,\n",
            "              colsample_bytree=None, early_stopping_rounds=None,\n",
            "              enable_categorical=False, eval_metric=None, feature_types=None,\n",
            "              gamma=None, gpu_id=None, grow_policy=None, importance_type=None,\n",
            "              interaction_constraints=None, learning_rate=None, max_bin=None,\n",
            "              max_cat_threshold=None, max_cat_to_onehot=None,\n",
            "              max_delta_step=None, max_depth=None, max_leaves=None,\n",
            "              min_child_weight=None, missing=nan, monotone_constraints=None,\n",
            "              n_estimators=100, n_jobs=None, num_parallel_tree=None,\n",
            "              predictor=None, random_state=None, ...) : \n",
            "Training Accuracy :  0.9947025462464109\n",
            "Validation Accuracy :  0.9515248809603649\n",
            "Time:  0.3725883960723877\n",
            "==========================================================\n",
            "SVC(probability=True) : \n",
            "Training Accuracy :  0.8951891264236178\n",
            "Validation Accuracy :  0.8812635526345204\n",
            "Time:  42.93954944610596\n",
            "==========================================================\n"
          ]
        }
      ],
      "source": [
        "models = [LogisticRegression(), XGBClassifier(), SVC(probability=True)]\n",
        "\n",
        "for i in range(3):\n",
        "  st = time.time()\n",
        "  models[i].fit(X, Y)\n",
        "  et = time.time()\n",
        "\n",
        "  print(f'{models[i]} : ')\n",
        "\n",
        "  train_preds = models[i].predict_proba(X)\n",
        "  print('Training Accuracy : ', metrics.roc_auc_score(Y, train_preds[:,1]))\n",
        "\n",
        "  val_preds = models[i].predict_proba(X_val)\n",
        "  print('Validation Accuracy : ', metrics.roc_auc_score(Y_val, val_preds[:,1]))\n",
        "\n",
        "  print(\"Time: \", et-st)\n",
        "\n",
        "  # cm = metrics.confusion_matrix(Y_val, models[i].predict(X_val), labels=models[i].classes_)\n",
        "  # disp = metrics.ConfusionMatrixDisplay(confusion_matrix=cm, display_labels=models[i].classes_)\n",
        "  # disp.plot()\n",
        "  print(\"==========================================================\")\n",
        "\n"
      ]
    },
    {
      "cell_type": "code",
      "execution_count": 13,
      "metadata": {
        "colab": {
          "base_uri": "https://localhost:8080/"
        },
        "id": "9r8DqECPsqEB",
        "outputId": "00d80b5c-a629-4e1c-ac7f-5837de850ac3"
      },
      "outputs": [
        {
          "name": "stdout",
          "output_type": "stream",
          "text": [
            "              precision    recall  f1-score   support\n",
            "\n",
            "           0    0.94637   0.90488   0.92516      2418\n",
            "           1    0.76861   0.86036   0.81190       888\n",
            "\n",
            "    accuracy                        0.89292      3306\n",
            "   macro avg    0.85749   0.88262   0.86853      3306\n",
            "weighted avg    0.89862   0.89292   0.89474      3306\n",
            "\n"
          ]
        }
      ],
      "source": [
        "print(metrics.classification_report(Y_val, models[1].predict(X_val), digits=5))"
      ]
    },
    {
      "attachments": {},
      "cell_type": "markdown",
      "metadata": {},
      "source": [
        "# Demo"
      ]
    },
    {
      "cell_type": "code",
      "execution_count": 14,
      "metadata": {},
      "outputs": [],
      "source": [
        "def get_page_content(url):\n",
        "   page = requests.get(url,headers={\"Accept-Language\":\"en-US\"})\n",
        "   return bs4.BeautifulSoup(page.text,\"html.parser\")"
      ]
    },
    {
      "cell_type": "code",
      "execution_count": 15,
      "metadata": {},
      "outputs": [
        {
          "name": "stdout",
          "output_type": "stream",
          "text": [
            "2023 06 20 18\n"
          ]
        },
        {
          "data": {
            "text/plain": [
              "[[18, 31, 36, 0.0, 0.0, 0.33, 1006, 13, 20, 20, 6, 2023]]"
            ]
          },
          "execution_count": 15,
          "metadata": {},
          "output_type": "execute_result"
        }
      ],
      "source": [
        "real_time = strftime(\"%Y-%m-%d %H:%M:%S\", localtime())\n",
        "year, month, day, hour = real_time[0:4], real_time[5:7], real_time[8:10], real_time[11:13]\n",
        "print(year, month, day, hour)\n",
        "\n",
        "url = f'https://www.worldweatheronline.com/ho-chi-minh-city-weather/vn.aspx?day={day}&tp=1' #link website\n",
        "soup = get_page_content(url)\n",
        "weather_now = soup.findAll('tr')[int(hour)+2].get_text()\n",
        "\n",
        "datatest = [[int(weather_now[0:2]), int(weather_now[5:7]), int(weather_now[10:12]), float(weather_now[15:18]), float(weather_now[20:21])/100, \n",
        "             float(weather_now[22:24])/100, int(weather_now[25:29]), int(weather_now[31:33]), int(weather_now[38:40]), int(day), int(month), int(year)]]\n",
        "datatest"
      ]
    },
    {
      "cell_type": "code",
      "execution_count": 22,
      "metadata": {},
      "outputs": [
        {
          "name": "stderr",
          "output_type": "stream",
          "text": [
            "c:\\Users\\nife\\miniconda3\\envs\\DS103\\lib\\site-packages\\sklearn\\base.py:439: UserWarning: X does not have valid feature names, but StandardScaler was fitted with feature names\n",
            "  warnings.warn(\n"
          ]
        }
      ],
      "source": [
        "datatest = scaler.transform(datatest)\n",
        "y_test = models[1].predict(datatest)"
      ]
    },
    {
      "cell_type": "code",
      "execution_count": 23,
      "metadata": {},
      "outputs": [
        {
          "name": "stdout",
          "output_type": "stream",
          "text": [
            "21:00 20-06-2023: Không có mưa!\n"
          ]
        }
      ],
      "source": [
        "if y_test[0]==0:\n",
        "    print(f'{int(hour)+3}:00 {day}-{month}-{year}: Không có mưa!')\n",
        "else:\n",
        "    print(f'{int(hour)+3}:00 {day}-{month}-{year}: Sẽ có mưa!')"
      ]
    },
    {
      "cell_type": "code",
      "execution_count": null,
      "metadata": {},
      "outputs": [],
      "source": []
    }
  ],
  "metadata": {
    "colab": {
      "provenance": []
    },
    "kernelspec": {
      "display_name": "Python 3",
      "name": "python3"
    },
    "language_info": {
      "codemirror_mode": {
        "name": "ipython",
        "version": 3
      },
      "file_extension": ".py",
      "mimetype": "text/x-python",
      "name": "python",
      "nbconvert_exporter": "python",
      "pygments_lexer": "ipython3",
      "version": "3.9.16"
    }
  },
  "nbformat": 4,
  "nbformat_minor": 0
}
